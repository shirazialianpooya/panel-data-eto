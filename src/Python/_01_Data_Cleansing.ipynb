{
 "cells": [
  {
   "cell_type": "markdown",
   "id": "c1d258f2",
   "metadata": {},
   "source": [
    "# Load Libraries"
   ]
  },
  {
   "cell_type": "code",
   "execution_count": 1,
   "id": "3869328f",
   "metadata": {},
   "outputs": [],
   "source": [
    "import os\n",
    "import warnings\n",
    "import logging\n",
    "import sys\n",
    "import pickle\n",
    "import numpy as np\n",
    "import pandas as pd\n",
    "import geopandas as gpd\n",
    "import dotenv\n",
    "\n",
    "# Load environment variables from .env file\n",
    "dotenv.load_dotenv()\n",
    "\n",
    "# Set up logging\n",
    "logging.basicConfig(level=logging.INFO)\n",
    "\n",
    "# Suppress warnings\n",
    "warnings.filterwarnings(\"ignore\")\n",
    "\n",
    "# Set display options for pandas\n",
    "pd.set_option('display.max_columns', None)\n",
    "pd.set_option('display.float_format', '{:.2f}'.format)\n",
    "pd.set_option('display.max_colwidth', None)"
   ]
  },
  {
   "cell_type": "markdown",
   "id": "4f2003da",
   "metadata": {},
   "source": [
    "# Load Data"
   ]
  },
  {
   "cell_type": "code",
   "execution_count": 2,
   "id": "8554eff9",
   "metadata": {},
   "outputs": [
    {
     "name": "stderr",
     "output_type": "stream",
     "text": [
      "INFO:root:Data loaded successfully from D:\\\\Pooya\\\\Storegs\\\\Dropbox\\\\IRIMO\\\\Export\\\\Iran_Data_1982_2023\\Iran_Data_1982_2023.parquet\n",
      "INFO:root:Geoinfo loaded successfully from D:\\\\Pooya\\\\Storegs\\\\Dropbox\\\\IRIMO\\\\Export\\\\Iran_Data_1982_2023\\Iran_GeoInfo_1982_2023.geojson\n"
     ]
    }
   ],
   "source": [
    "# Define file paths using environment variables\n",
    "DATA_FOLDER_PATH = os.getenv('DATA_FOLDER_PATH')\n",
    "DATA_NAME = os.getenv('DATA_NAME')\n",
    "GEOINFO_NAME = os.getenv('GEOINFO_NAME')\n",
    "\n",
    "if not DATA_FOLDER_PATH or not DATA_NAME or not GEOINFO_NAME:\n",
    "    logging.error(\"Environment variables DATA_FOLDER_PATH, DATA_NAME, or GEOINFO_NAME are not set.\")\n",
    "    sys.exit(1)\n",
    "\n",
    "# Construct full file paths\n",
    "DATA_PATH = os.path.join(DATA_FOLDER_PATH, DATA_NAME + '.parquet')\n",
    "GEOINFO_PATH = os.path.join(DATA_FOLDER_PATH, GEOINFO_NAME + '.geojson')\n",
    "\n",
    "# Load datasets\n",
    "try:\n",
    "    # Read Parquet file with pandas\n",
    "    data = pd.read_parquet(DATA_PATH)\n",
    "    logging.info(f\"Data loaded successfully from {DATA_PATH}\")\n",
    "except Exception as e:\n",
    "    logging.error(f\"Error loading data from {DATA_PATH}: {e}\")\n",
    "    sys.exit(1)\n",
    "\n",
    "try:\n",
    "    # Read GeoJSON file with geopandas    \n",
    "    geoinfo = gpd.read_file(GEOINFO_PATH)\n",
    "    logging.info(f\"Geoinfo loaded successfully from {GEOINFO_PATH}\")\n",
    "except Exception as e:\n",
    "    logging.error(f\"Error loading geoinfo from {GEOINFO_PATH}: {e}\")\n",
    "    sys.exit(1)"
   ]
  },
  {
   "cell_type": "code",
   "execution_count": 3,
   "id": "2701dd3b",
   "metadata": {},
   "outputs": [
    {
     "name": "stdout",
     "output_type": "stream",
     "text": [
      "<class 'pandas.core.frame.DataFrame'>\n",
      "RangeIndex: 3613873 entries, 0 to 3613872\n",
      "Data columns (total 55 columns):\n",
      " #   Column             Dtype         \n",
      "---  ------             -----         \n",
      " 0   station_id         category      \n",
      " 1   station_name       category      \n",
      " 2   region_id          category      \n",
      " 3   region_name        category      \n",
      " 4   lat                float64       \n",
      " 5   lon                float64       \n",
      " 6   station_elevation  float64       \n",
      " 7   date               datetime64[ns]\n",
      " 8   vvmin              float64       \n",
      " 9   ff_max             float64       \n",
      " 10  ffm                float64       \n",
      " 11  ff_gust_max        float64       \n",
      " 12  dd_gust_max        float64       \n",
      " 13  tmax               float64       \n",
      " 14  tmin               float64       \n",
      " 15  tm                 float64       \n",
      " 16  pmin               float64       \n",
      " 17  pm                 float64       \n",
      " 18  p0m                float64       \n",
      " 19  ewm                float64       \n",
      " 20  dj18               float64       \n",
      " 21  rrr24              float64       \n",
      " 22  rrrtmax            float64       \n",
      " 23  nm                 float64       \n",
      " 24  nmax               float64       \n",
      " 25  essmax             float64       \n",
      " 26  ness               float64       \n",
      " 27  umax               float64       \n",
      " 28  umin               float64       \n",
      " 29  um                 float64       \n",
      " 30  sshn               float64       \n",
      " 31  radglo24           float64       \n",
      " 32  evt                float64       \n",
      " 33  td_m               float64       \n",
      " 34  twet_m             float64       \n",
      " 35  hrel_03            float64       \n",
      " 36  hrel_09            float64       \n",
      " 37  hrel_15            float64       \n",
      " 38  ss24               float64       \n",
      " 39  tsoil_m            float64       \n",
      " 40  tsoil_min          float64       \n",
      " 41  pmax               float64       \n",
      " 42  p0max              float64       \n",
      " 43  p0min              float64       \n",
      " 44  dj21               float64       \n",
      " 45  ewsm               float64       \n",
      " 46  dd_max             float64       \n",
      " 47  nsn                float64       \n",
      " 48  nrasn              float64       \n",
      " 49  ngf                float64       \n",
      " 50  nshra              float64       \n",
      " 51  ndu                float64       \n",
      " 52  nbdu               float64       \n",
      " 53  nra                float64       \n",
      " 54  nhz                float64       \n",
      "dtypes: category(4), datetime64[ns](1), float64(50)\n",
      "memory usage: 1.4 GB\n"
     ]
    }
   ],
   "source": [
    "data.info()"
   ]
  },
  {
   "cell_type": "markdown",
   "id": "8ab72965",
   "metadata": {},
   "source": [
    "# Filter Data"
   ]
  },
  {
   "cell_type": "code",
   "execution_count": 4,
   "id": "11f203d3",
   "metadata": {},
   "outputs": [],
   "source": [
    "selected_columns = [\n",
    "    'station_id',\n",
    "    'station_name',\n",
    "    'region_id',\n",
    "    'region_name',\n",
    "    'lat',\n",
    "    'lon',\n",
    "    'station_elevation',\n",
    "    'date',\n",
    "    'tmax',\n",
    "    'tmin',\n",
    "    'tm',\n",
    "    'umax',\n",
    "    'umin',\n",
    "    'um',\n",
    "    'ffm',\n",
    "    'sshn',\n",
    "    'rrr24',\n",
    "]\n",
    "\n",
    "df = data[selected_columns].copy()\n",
    "# df.dropna(subset=selected_columns, inplace=True)"
   ]
  },
  {
   "cell_type": "code",
   "execution_count": 5,
   "id": "1134431d",
   "metadata": {},
   "outputs": [
    {
     "name": "stdout",
     "output_type": "stream",
     "text": [
      "<class 'pandas.core.frame.DataFrame'>\n",
      "RangeIndex: 3613873 entries, 0 to 3613872\n",
      "Data columns (total 17 columns):\n",
      " #   Column             Dtype         \n",
      "---  ------             -----         \n",
      " 0   station_id         category      \n",
      " 1   station_name       category      \n",
      " 2   region_id          category      \n",
      " 3   region_name        category      \n",
      " 4   lat                float64       \n",
      " 5   lon                float64       \n",
      " 6   station_elevation  float64       \n",
      " 7   date               datetime64[ns]\n",
      " 8   tmax               float64       \n",
      " 9   tmin               float64       \n",
      " 10  tm                 float64       \n",
      " 11  umax               float64       \n",
      " 12  umin               float64       \n",
      " 13  um                 float64       \n",
      " 14  ffm                float64       \n",
      " 15  sshn               float64       \n",
      " 16  rrr24              float64       \n",
      "dtypes: category(4), datetime64[ns](1), float64(12)\n",
      "memory usage: 379.2 MB\n"
     ]
    }
   ],
   "source": [
    "df.info()"
   ]
  },
  {
   "cell_type": "markdown",
   "id": "d4c71d8b",
   "metadata": {},
   "source": [
    "# Filter Data"
   ]
  },
  {
   "cell_type": "code",
   "execution_count": 6,
   "id": "7d505b5f",
   "metadata": {},
   "outputs": [],
   "source": [
    "df.query('date >= \"1983-01-01\" and date <= \"2022-12-31\"', inplace=True)\n",
    "df.reset_index(drop=True, inplace=True)"
   ]
  },
  {
   "cell_type": "code",
   "execution_count": 7,
   "id": "81e35bdb",
   "metadata": {},
   "outputs": [
    {
     "data": {
      "application/vnd.microsoft.datawrangler.viewer.v0+json": {
       "columns": [
        {
         "name": "index",
         "rawType": "int64",
         "type": "integer"
        },
        {
         "name": "station_id",
         "rawType": "category",
         "type": "unknown"
        },
        {
         "name": "count",
         "rawType": "int64",
         "type": "integer"
        },
        {
         "name": "year",
         "rawType": "int64",
         "type": "integer"
        }
       ],
       "ref": "df2060b0-8119-4e95-9bb4-e670327b3947",
       "rows": [
        [
         "0",
         "40882",
         "14609",
         "40"
        ],
        [
         "1",
         "40879",
         "14609",
         "40"
        ],
        [
         "2",
         "40883",
         "14609",
         "40"
        ],
        [
         "3",
         "40706",
         "14609",
         "40"
        ],
        [
         "4",
         "40712",
         "14609",
         "40"
        ],
        [
         "5",
         "40875",
         "14609",
         "40"
        ],
        [
         "6",
         "40719",
         "14609",
         "40"
        ],
        [
         "7",
         "40768",
         "14609",
         "40"
        ],
        [
         "8",
         "40821",
         "14609",
         "40"
        ],
        [
         "9",
         "40766",
         "14609",
         "40"
        ],
        [
         "10",
         "40856",
         "14609",
         "40"
        ],
        [
         "11",
         "40802",
         "14609",
         "40"
        ],
        [
         "12",
         "40809",
         "14609",
         "40"
        ],
        [
         "13",
         "40818",
         "14609",
         "40"
        ],
        [
         "14",
         "40841",
         "14609",
         "40"
        ],
        [
         "15",
         "40829",
         "14609",
         "40"
        ],
        [
         "16",
         "40858",
         "14609",
         "40"
        ],
        [
         "17",
         "40798",
         "14609",
         "40"
        ],
        [
         "18",
         "40757",
         "14609",
         "40"
        ],
        [
         "19",
         "40755",
         "14609",
         "40"
        ],
        [
         "20",
         "40754",
         "14609",
         "40"
        ],
        [
         "21",
         "40762",
         "14609",
         "40"
        ],
        [
         "22",
         "40703",
         "14609",
         "40"
        ],
        [
         "23",
         "40718",
         "14609",
         "40"
        ],
        [
         "24",
         "40745",
         "14609",
         "40"
        ],
        [
         "25",
         "40747",
         "14609",
         "40"
        ],
        [
         "26",
         "40739",
         "14609",
         "40"
        ],
        [
         "27",
         "40736",
         "14609",
         "40"
        ],
        [
         "28",
         "40743",
         "14609",
         "40"
        ],
        [
         "29",
         "40727",
         "14609",
         "40"
        ],
        [
         "30",
         "40723",
         "14609",
         "40"
        ],
        [
         "31",
         "40729",
         "14609",
         "40"
        ],
        [
         "32",
         "40731",
         "14609",
         "40"
        ],
        [
         "33",
         "40732",
         "14609",
         "40"
        ],
        [
         "34",
         "40854",
         "14608",
         "40"
        ],
        [
         "35",
         "40785",
         "14608",
         "40"
        ],
        [
         "36",
         "40734",
         "14607",
         "40"
        ],
        [
         "37",
         "40708",
         "14604",
         "40"
        ],
        [
         "38",
         "40738",
         "14593",
         "39"
        ],
        [
         "39",
         "40859",
         "14578",
         "39"
        ],
        [
         "40",
         "40769",
         "14578",
         "39"
        ],
        [
         "41",
         "40848",
         "14578",
         "39"
        ],
        [
         "42",
         "40782",
         "14551",
         "39"
        ],
        [
         "43",
         "40800",
         "14532",
         "39"
        ],
        [
         "44",
         "40713",
         "14458",
         "39"
        ],
        [
         "45",
         "40737",
         "14244",
         "39"
        ],
        [
         "46",
         "40898",
         "14243",
         "39"
        ],
        [
         "47",
         "40740",
         "14242",
         "39"
        ],
        [
         "48",
         "40890",
         "14229",
         "38"
        ],
        [
         "49",
         "40889",
         "14181",
         "38"
        ]
       ],
       "shape": {
        "columns": 3,
        "rows": 448
       }
      },
      "text/html": [
       "<div>\n",
       "<style scoped>\n",
       "    .dataframe tbody tr th:only-of-type {\n",
       "        vertical-align: middle;\n",
       "    }\n",
       "\n",
       "    .dataframe tbody tr th {\n",
       "        vertical-align: top;\n",
       "    }\n",
       "\n",
       "    .dataframe thead th {\n",
       "        text-align: right;\n",
       "    }\n",
       "</style>\n",
       "<table border=\"1\" class=\"dataframe\">\n",
       "  <thead>\n",
       "    <tr style=\"text-align: right;\">\n",
       "      <th></th>\n",
       "      <th>station_id</th>\n",
       "      <th>count</th>\n",
       "      <th>year</th>\n",
       "    </tr>\n",
       "  </thead>\n",
       "  <tbody>\n",
       "    <tr>\n",
       "      <th>0</th>\n",
       "      <td>40882</td>\n",
       "      <td>14609</td>\n",
       "      <td>40</td>\n",
       "    </tr>\n",
       "    <tr>\n",
       "      <th>1</th>\n",
       "      <td>40879</td>\n",
       "      <td>14609</td>\n",
       "      <td>40</td>\n",
       "    </tr>\n",
       "    <tr>\n",
       "      <th>2</th>\n",
       "      <td>40883</td>\n",
       "      <td>14609</td>\n",
       "      <td>40</td>\n",
       "    </tr>\n",
       "    <tr>\n",
       "      <th>3</th>\n",
       "      <td>40706</td>\n",
       "      <td>14609</td>\n",
       "      <td>40</td>\n",
       "    </tr>\n",
       "    <tr>\n",
       "      <th>4</th>\n",
       "      <td>40712</td>\n",
       "      <td>14609</td>\n",
       "      <td>40</td>\n",
       "    </tr>\n",
       "    <tr>\n",
       "      <th>...</th>\n",
       "      <td>...</td>\n",
       "      <td>...</td>\n",
       "      <td>...</td>\n",
       "    </tr>\n",
       "    <tr>\n",
       "      <th>443</th>\n",
       "      <td>18391</td>\n",
       "      <td>0</td>\n",
       "      <td>0</td>\n",
       "    </tr>\n",
       "    <tr>\n",
       "      <th>444</th>\n",
       "      <td>40884</td>\n",
       "      <td>0</td>\n",
       "      <td>0</td>\n",
       "    </tr>\n",
       "    <tr>\n",
       "      <th>445</th>\n",
       "      <td>18211</td>\n",
       "      <td>0</td>\n",
       "      <td>0</td>\n",
       "    </tr>\n",
       "    <tr>\n",
       "      <th>446</th>\n",
       "      <td>99560</td>\n",
       "      <td>0</td>\n",
       "      <td>0</td>\n",
       "    </tr>\n",
       "    <tr>\n",
       "      <th>447</th>\n",
       "      <td>99546</td>\n",
       "      <td>0</td>\n",
       "      <td>0</td>\n",
       "    </tr>\n",
       "  </tbody>\n",
       "</table>\n",
       "<p>448 rows × 3 columns</p>\n",
       "</div>"
      ],
      "text/plain": [
       "    station_id  count  year\n",
       "0        40882  14609    40\n",
       "1        40879  14609    40\n",
       "2        40883  14609    40\n",
       "3        40706  14609    40\n",
       "4        40712  14609    40\n",
       "..         ...    ...   ...\n",
       "443      18391      0     0\n",
       "444      40884      0     0\n",
       "445      18211      0     0\n",
       "446      99560      0     0\n",
       "447      99546      0     0\n",
       "\n",
       "[448 rows x 3 columns]"
      ]
     },
     "execution_count": 7,
     "metadata": {},
     "output_type": "execute_result"
    }
   ],
   "source": [
    "# Calculate number of records per station`\n",
    "station_record_counts = df['station_id'].value_counts().reset_index()\n",
    "\n",
    "station_record_counts['year'] = station_record_counts[\"count\"] // 365\n",
    "\n",
    "station_record_counts\n"
   ]
  },
  {
   "cell_type": "markdown",
   "id": "fe0714f0",
   "metadata": {},
   "source": [
    "# Export Data"
   ]
  },
  {
   "cell_type": "code",
   "execution_count": 8,
   "id": "b1a2ae53",
   "metadata": {},
   "outputs": [],
   "source": [
    "# To pickle in data folder\n",
    "with open('../../data/Data_Iran_1983_2022.pkl', 'wb') as f:\n",
    "    pickle.dump(df, f)"
   ]
  }
 ],
 "metadata": {
  "kernelspec": {
   "display_name": "panel-data-eto (3.12.11)",
   "language": "python",
   "name": "python3"
  },
  "language_info": {
   "codemirror_mode": {
    "name": "ipython",
    "version": 3
   },
   "file_extension": ".py",
   "mimetype": "text/x-python",
   "name": "python",
   "nbconvert_exporter": "python",
   "pygments_lexer": "ipython3",
   "version": "3.12.11"
  }
 },
 "nbformat": 4,
 "nbformat_minor": 5
}
