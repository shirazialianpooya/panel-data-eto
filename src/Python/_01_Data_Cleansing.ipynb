{
 "cells": [
  {
   "cell_type": "markdown",
   "id": "c1d258f2",
   "metadata": {},
   "source": [
    "# Load Libraries"
   ]
  },
  {
   "cell_type": "code",
   "execution_count": 1,
   "id": "3869328f",
   "metadata": {},
   "outputs": [],
   "source": [
    "import os\n",
    "import warnings\n",
    "import logging\n",
    "import sys\n",
    "import pickle\n",
    "import numpy as np\n",
    "import pandas as pd\n",
    "import geopandas as gpd\n",
    "import dotenv\n",
    "\n",
    "# Load environment variables from .env file\n",
    "dotenv.load_dotenv()\n",
    "\n",
    "# Set up logging\n",
    "logging.basicConfig(level=logging.INFO)\n",
    "\n",
    "# Suppress warnings\n",
    "warnings.filterwarnings(\"ignore\")\n",
    "\n",
    "# Set display options for pandas\n",
    "pd.set_option('display.max_columns', None)\n",
    "pd.set_option('display.float_format', '{:.2f}'.format)\n",
    "pd.set_option('display.max_colwidth', None)"
   ]
  },
  {
   "cell_type": "markdown",
   "id": "4f2003da",
   "metadata": {},
   "source": [
    "# Load Data"
   ]
  },
  {
   "cell_type": "code",
   "execution_count": 2,
   "id": "8554eff9",
   "metadata": {},
   "outputs": [
    {
     "name": "stderr",
     "output_type": "stream",
     "text": [
      "INFO:root:Data loaded successfully from C:/Users/Pooya/Dropbox/IRIMO/Export/Iran_Data_1950_2025\\IRIMO_Data.parquet\n",
      "INFO:root:Geoinfo loaded successfully from C:/Users/Pooya/Dropbox/IRIMO/Export/Iran_Data_1950_2025\\IRIMO_GeoInfo.geojson\n"
     ]
    }
   ],
   "source": [
    "# Define file paths using environment variables\n",
    "DATA_FOLDER_PATH = os.getenv('DATA_FOLDER_PATH')\n",
    "DATA_NAME = os.getenv('DATA_NAME')\n",
    "GEOINFO_NAME = os.getenv('GEOINFO_NAME')\n",
    "\n",
    "if not DATA_FOLDER_PATH or not DATA_NAME or not GEOINFO_NAME:\n",
    "    logging.error(\"Environment variables DATA_FOLDER_PATH, DATA_NAME, or GEOINFO_NAME are not set.\")\n",
    "    sys.exit(1)\n",
    "\n",
    "# Construct full file paths\n",
    "DATA_PATH = os.path.join(DATA_FOLDER_PATH, DATA_NAME + '.parquet')\n",
    "GEOINFO_PATH = os.path.join(DATA_FOLDER_PATH, GEOINFO_NAME + '.geojson')\n",
    "\n",
    "# Load datasets\n",
    "try:\n",
    "    # Read Parquet file with pandas\n",
    "    data = pd.read_parquet(DATA_PATH)\n",
    "    logging.info(f\"Data loaded successfully from {DATA_PATH}\")\n",
    "except Exception as e:\n",
    "    logging.error(f\"Error loading data from {DATA_PATH}: {e}\")\n",
    "    sys.exit(1)\n",
    "\n",
    "try:\n",
    "    # Read GeoJSON file with geopandas    \n",
    "    geoinfo = gpd.read_file(GEOINFO_PATH)\n",
    "    logging.info(f\"Geoinfo loaded successfully from {GEOINFO_PATH}\")\n",
    "except Exception as e:\n",
    "    logging.error(f\"Error loading geoinfo from {GEOINFO_PATH}: {e}\")\n",
    "    sys.exit(1)"
   ]
  },
  {
   "cell_type": "code",
   "execution_count": 3,
   "id": "2701dd3b",
   "metadata": {},
   "outputs": [
    {
     "name": "stdout",
     "output_type": "stream",
     "text": [
      "<class 'pandas.core.frame.DataFrame'>\n",
      "RangeIndex: 4928062 entries, 0 to 4928061\n",
      "Data columns (total 55 columns):\n",
      " #   Column             Dtype         \n",
      "---  ------             -----         \n",
      " 0   station_id         category      \n",
      " 1   station_name       category      \n",
      " 2   region_id          category      \n",
      " 3   region_name        category      \n",
      " 4   lat                float64       \n",
      " 5   lon                float64       \n",
      " 6   station_elevation  float64       \n",
      " 7   date               datetime64[ns]\n",
      " 8   ff_max             float64       \n",
      " 9   dd_max             float64       \n",
      " 10  ffm                float64       \n",
      " 11  tmax               float64       \n",
      " 12  tmin               float64       \n",
      " 13  tm                 float64       \n",
      " 14  pm                 float64       \n",
      " 15  p0m                float64       \n",
      " 16  ewm                float64       \n",
      " 17  rrr24              float64       \n",
      " 18  nm                 float64       \n",
      " 19  nmax               float64       \n",
      " 20  essmax             float64       \n",
      " 21  umax               float64       \n",
      " 22  umin               float64       \n",
      " 23  um                 float64       \n",
      " 24  sshn               float64       \n",
      " 25  radglo24           float64       \n",
      " 26  evt                float64       \n",
      " 27  td_m               float64       \n",
      " 28  twet_m             float64       \n",
      " 29  ss24               float64       \n",
      " 30  tsoil_m            float64       \n",
      " 31  tsoil_min          float64       \n",
      " 32  ewsm               float64       \n",
      " 33  vvmin              float64       \n",
      " 34  ff_gust_max        float64       \n",
      " 35  dd_gust_max        float64       \n",
      " 36  pmin               float64       \n",
      " 37  rrrtmax            float64       \n",
      " 38  nsn                float64       \n",
      " 39  nrasn              float64       \n",
      " 40  ngf                float64       \n",
      " 41  nshra              float64       \n",
      " 42  ndu                float64       \n",
      " 43  nbdu               float64       \n",
      " 44  ness               float64       \n",
      " 45  hrel_03            float64       \n",
      " 46  hrel_09            float64       \n",
      " 47  hrel_15            float64       \n",
      " 48  nra                float64       \n",
      " 49  nhz                float64       \n",
      " 50  pmax               float64       \n",
      " 51  p0max              float64       \n",
      " 52  p0min              float64       \n",
      " 53  dj21               float64       \n",
      " 54  dj18               float64       \n",
      "dtypes: category(4), datetime64[ns](1), float64(50)\n",
      "memory usage: 1.9 GB\n"
     ]
    }
   ],
   "source": [
    "data.info()"
   ]
  },
  {
   "cell_type": "code",
   "execution_count": 4,
   "id": "c9504588",
   "metadata": {},
   "outputs": [
    {
     "data": {
      "text/plain": [
       "['Airforce',\n",
       " 'Alborz',\n",
       " 'Ardebil',\n",
       " 'Azarbayjan-E-Gharbi',\n",
       " 'Azarbayjan-E-Sharghi',\n",
       " 'Bushehr',\n",
       " 'Chaharmahal Va Bakhtiari',\n",
       " 'Esfahan',\n",
       " 'Fars',\n",
       " 'Gilan',\n",
       " 'Golestan',\n",
       " 'Hamedan',\n",
       " 'Hormozgan',\n",
       " 'Ilam',\n",
       " 'Kerman',\n",
       " 'Kermanshah',\n",
       " 'Khohgiluyeh Va Boyerahmad',\n",
       " 'Khorasan Razavi',\n",
       " 'Khuzestan',\n",
       " 'Kordestan',\n",
       " 'Lorestan',\n",
       " 'Markazi',\n",
       " 'Mazandaran',\n",
       " 'North Khorasan',\n",
       " 'Qazvin',\n",
       " 'Qom',\n",
       " 'Semnan',\n",
       " 'Sistan Va Baluchestan',\n",
       " 'South Khorasan',\n",
       " 'Tehran',\n",
       " 'Yazd',\n",
       " 'Zanjan']"
      ]
     },
     "execution_count": 4,
     "metadata": {},
     "output_type": "execute_result"
    }
   ],
   "source": [
    "data.region_name.unique().tolist()"
   ]
  },
  {
   "cell_type": "markdown",
   "id": "8ab72965",
   "metadata": {},
   "source": [
    "# Filter Data"
   ]
  },
  {
   "cell_type": "code",
   "execution_count": 6,
   "id": "11f203d3",
   "metadata": {},
   "outputs": [],
   "source": [
    "selected_regions = [\"Khorasan Razavi\", \"South Khorasan\", \"North Khorasan\"]\n",
    "\n",
    "selected_columns = [\n",
    "    'station_id',\n",
    "    'station_name',\n",
    "    'region_id',\n",
    "    'region_name',\n",
    "    'lat',\n",
    "    'lon',\n",
    "    'station_elevation',\n",
    "    'date',\n",
    "    'tmax',\n",
    "    'tmin',\n",
    "    'tm',\n",
    "    'umax',\n",
    "    'umin',\n",
    "    'um',\n",
    "    'ffm',\n",
    "    'sshn',\n",
    "    'rrr24',\n",
    "]\n",
    "\n",
    "df = data.filter(items=selected_columns).query(\"region_name in @selected_regions\").copy()\n",
    "\n",
    "def remove_unused_if_cat(s):\n",
    "    if pd.api.types.is_categorical_dtype(s.dtype):\n",
    "        return s.cat.remove_unused_categories()\n",
    "    else:\n",
    "        return s\n",
    "\n",
    "df = df.apply(remove_unused_if_cat)\n",
    "\n",
    "# df.dropna(subset=selected_columns, inplace=True)"
   ]
  },
  {
   "cell_type": "code",
   "execution_count": 7,
   "id": "1134431d",
   "metadata": {},
   "outputs": [
    {
     "name": "stdout",
     "output_type": "stream",
     "text": [
      "<class 'pandas.core.frame.DataFrame'>\n",
      "Index: 531359 entries, 2633701 to 4538369\n",
      "Data columns (total 17 columns):\n",
      " #   Column             Non-Null Count   Dtype         \n",
      "---  ------             --------------   -----         \n",
      " 0   station_id         531359 non-null  category      \n",
      " 1   station_name       531359 non-null  category      \n",
      " 2   region_id          531359 non-null  category      \n",
      " 3   region_name        531359 non-null  category      \n",
      " 4   lat                531359 non-null  float64       \n",
      " 5   lon                531359 non-null  float64       \n",
      " 6   station_elevation  531359 non-null  float64       \n",
      " 7   date               531359 non-null  datetime64[ns]\n",
      " 8   tmax               522466 non-null  float64       \n",
      " 9   tmin               511502 non-null  float64       \n",
      " 10  tm                 512414 non-null  float64       \n",
      " 11  umax               394472 non-null  float64       \n",
      " 12  umin               394447 non-null  float64       \n",
      " 13  um                 394472 non-null  float64       \n",
      " 14  ffm                398364 non-null  float64       \n",
      " 15  sshn               289276 non-null  float64       \n",
      " 16  rrr24              485844 non-null  float64       \n",
      "dtypes: category(4), datetime64[ns](1), float64(12)\n",
      "memory usage: 58.8 MB\n"
     ]
    }
   ],
   "source": [
    "df.info()"
   ]
  },
  {
   "cell_type": "markdown",
   "id": "d4c71d8b",
   "metadata": {},
   "source": [
    "# Filter Data"
   ]
  },
  {
   "cell_type": "code",
   "execution_count": 9,
   "id": "7d505b5f",
   "metadata": {},
   "outputs": [],
   "source": [
    "# df.query('date >= \"1983-01-01\" and date <= \"2022-12-31\"', inplace=True)\n",
    "df.reset_index(drop=True, inplace=True)"
   ]
  },
  {
   "cell_type": "code",
   "execution_count": 10,
   "id": "81e35bdb",
   "metadata": {},
   "outputs": [
    {
     "data": {
      "application/vnd.microsoft.datawrangler.viewer.v0+json": {
       "columns": [
        {
         "name": "index",
         "rawType": "int64",
         "type": "integer"
        },
        {
         "name": "station_id",
         "rawType": "category",
         "type": "unknown"
        },
        {
         "name": "count",
         "rawType": "int64",
         "type": "integer"
        },
        {
         "name": "year",
         "rawType": "int64",
         "type": "integer"
        }
       ],
       "ref": "61b9a592-bf10-4e6f-9000-ac13b5c913f1",
       "rows": [
        [
         "0",
         "40745",
         "27272",
         "74"
        ],
        [
         "1",
         "40743",
         "25902",
         "70"
        ],
        [
         "2",
         "40809",
         "25628",
         "70"
        ],
        [
         "3",
         "40762",
         "24294",
         "66"
        ],
        [
         "4",
         "40791",
         "21758",
         "59"
        ],
        [
         "5",
         "40723",
         "17686",
         "48"
        ],
        [
         "6",
         "19178",
         "17682",
         "48"
        ],
        [
         "7",
         "40740",
         "15217",
         "41"
        ],
        [
         "8",
         "40741",
         "15128",
         "41"
        ],
        [
         "9",
         "40792",
         "14845",
         "40"
        ],
        [
         "10",
         "40763",
         "14398",
         "39"
        ],
        [
         "11",
         "40827",
         "14391",
         "39"
        ],
        [
         "12",
         "40793",
         "14092",
         "38"
        ],
        [
         "13",
         "40778",
         "14055",
         "38"
        ],
        [
         "14",
         "40744",
         "13783",
         "37"
        ],
        [
         "15",
         "99407",
         "13752",
         "37"
        ],
        [
         "16",
         "40746",
         "12652",
         "34"
        ],
        [
         "17",
         "19261",
         "12142",
         "33"
        ],
        [
         "18",
         "40806",
         "11931",
         "32"
        ],
        [
         "19",
         "18102",
         "11691",
         "32"
        ],
        [
         "20",
         "18166",
         "9902",
         "27"
        ],
        [
         "21",
         "19003",
         "9268",
         "25"
        ],
        [
         "22",
         "18224",
         "8473",
         "23"
        ],
        [
         "23",
         "40837",
         "7122",
         "19"
        ],
        [
         "24",
         "40825",
         "7063",
         "19"
        ],
        [
         "25",
         "99262",
         "7002",
         "19"
        ],
        [
         "26",
         "18123",
         "6939",
         "19"
        ],
        [
         "27",
         "99295",
         "6910",
         "18"
        ],
        [
         "28",
         "99287",
         "6879",
         "18"
        ],
        [
         "29",
         "40807",
         "6453",
         "17"
        ],
        [
         "30",
         "99401",
         "5357",
         "14"
        ],
        [
         "31",
         "99499",
         "5354",
         "14"
        ],
        [
         "32",
         "99402",
         "5237",
         "14"
        ],
        [
         "33",
         "18153",
         "4996",
         "13"
        ],
        [
         "34",
         "99356",
         "4989",
         "13"
        ],
        [
         "35",
         "18168",
         "4774",
         "13"
        ],
        [
         "36",
         "99270",
         "3547",
         "9"
        ],
        [
         "37",
         "99266",
         "3527",
         "9"
        ],
        [
         "38",
         "99434",
         "3500",
         "9"
        ],
        [
         "39",
         "99245",
         "3496",
         "9"
        ],
        [
         "40",
         "19041",
         "3435",
         "9"
        ],
        [
         "41",
         "99436",
         "3382",
         "9"
        ],
        [
         "42",
         "99289",
         "3265",
         "8"
        ],
        [
         "43",
         "18105",
         "2927",
         "8"
        ],
        [
         "44",
         "18120",
         "2923",
         "8"
        ],
        [
         "45",
         "18260",
         "2922",
         "8"
        ],
        [
         "46",
         "18210",
         "2921",
         "8"
        ],
        [
         "47",
         "18363",
         "2919",
         "7"
        ],
        [
         "48",
         "18066",
         "2915",
         "7"
        ],
        [
         "49",
         "99442",
         "2834",
         "7"
        ]
       ],
       "shape": {
        "columns": 3,
        "rows": 83
       }
      },
      "text/html": [
       "<div>\n",
       "<style scoped>\n",
       "    .dataframe tbody tr th:only-of-type {\n",
       "        vertical-align: middle;\n",
       "    }\n",
       "\n",
       "    .dataframe tbody tr th {\n",
       "        vertical-align: top;\n",
       "    }\n",
       "\n",
       "    .dataframe thead th {\n",
       "        text-align: right;\n",
       "    }\n",
       "</style>\n",
       "<table border=\"1\" class=\"dataframe\">\n",
       "  <thead>\n",
       "    <tr style=\"text-align: right;\">\n",
       "      <th></th>\n",
       "      <th>station_id</th>\n",
       "      <th>count</th>\n",
       "      <th>year</th>\n",
       "    </tr>\n",
       "  </thead>\n",
       "  <tbody>\n",
       "    <tr>\n",
       "      <th>0</th>\n",
       "      <td>40745</td>\n",
       "      <td>27272</td>\n",
       "      <td>74</td>\n",
       "    </tr>\n",
       "    <tr>\n",
       "      <th>1</th>\n",
       "      <td>40743</td>\n",
       "      <td>25902</td>\n",
       "      <td>70</td>\n",
       "    </tr>\n",
       "    <tr>\n",
       "      <th>2</th>\n",
       "      <td>40809</td>\n",
       "      <td>25628</td>\n",
       "      <td>70</td>\n",
       "    </tr>\n",
       "    <tr>\n",
       "      <th>3</th>\n",
       "      <td>40762</td>\n",
       "      <td>24294</td>\n",
       "      <td>66</td>\n",
       "    </tr>\n",
       "    <tr>\n",
       "      <th>4</th>\n",
       "      <td>40791</td>\n",
       "      <td>21758</td>\n",
       "      <td>59</td>\n",
       "    </tr>\n",
       "    <tr>\n",
       "      <th>...</th>\n",
       "      <td>...</td>\n",
       "      <td>...</td>\n",
       "      <td>...</td>\n",
       "    </tr>\n",
       "    <tr>\n",
       "      <th>78</th>\n",
       "      <td>19062</td>\n",
       "      <td>243</td>\n",
       "      <td>0</td>\n",
       "    </tr>\n",
       "    <tr>\n",
       "      <th>79</th>\n",
       "      <td>18606</td>\n",
       "      <td>235</td>\n",
       "      <td>0</td>\n",
       "    </tr>\n",
       "    <tr>\n",
       "      <th>80</th>\n",
       "      <td>18604</td>\n",
       "      <td>228</td>\n",
       "      <td>0</td>\n",
       "    </tr>\n",
       "    <tr>\n",
       "      <th>81</th>\n",
       "      <td>51202</td>\n",
       "      <td>101</td>\n",
       "      <td>0</td>\n",
       "    </tr>\n",
       "    <tr>\n",
       "      <th>82</th>\n",
       "      <td>151655</td>\n",
       "      <td>1</td>\n",
       "      <td>0</td>\n",
       "    </tr>\n",
       "  </tbody>\n",
       "</table>\n",
       "<p>83 rows × 3 columns</p>\n",
       "</div>"
      ],
      "text/plain": [
       "   station_id  count  year\n",
       "0       40745  27272    74\n",
       "1       40743  25902    70\n",
       "2       40809  25628    70\n",
       "3       40762  24294    66\n",
       "4       40791  21758    59\n",
       "..        ...    ...   ...\n",
       "78      19062    243     0\n",
       "79      18606    235     0\n",
       "80      18604    228     0\n",
       "81      51202    101     0\n",
       "82     151655      1     0\n",
       "\n",
       "[83 rows x 3 columns]"
      ]
     },
     "execution_count": 10,
     "metadata": {},
     "output_type": "execute_result"
    }
   ],
   "source": [
    "# Calculate number of records per station`\n",
    "station_record_counts = df['station_id'].value_counts().reset_index()\n",
    "\n",
    "station_record_counts['year'] = station_record_counts[\"count\"] // 365\n",
    "\n",
    "station_record_counts\n"
   ]
  },
  {
   "cell_type": "markdown",
   "id": "fe0714f0",
   "metadata": {},
   "source": [
    "# Export Data"
   ]
  },
  {
   "cell_type": "code",
   "execution_count": 12,
   "id": "b1a2ae53",
   "metadata": {},
   "outputs": [],
   "source": [
    "# To pickle in data folder\n",
    "with open('../../data/Khorasan_Data_1950_2025.pkl', 'wb') as f:\n",
    "    pickle.dump(df, f)"
   ]
  }
 ],
 "metadata": {
  "kernelspec": {
   "display_name": "panel-data-eto",
   "language": "python",
   "name": "python3"
  },
  "language_info": {
   "codemirror_mode": {
    "name": "ipython",
    "version": 3
   },
   "file_extension": ".py",
   "mimetype": "text/x-python",
   "name": "python",
   "nbconvert_exporter": "python",
   "pygments_lexer": "ipython3",
   "version": "3.12.11"
  }
 },
 "nbformat": 4,
 "nbformat_minor": 5
}
