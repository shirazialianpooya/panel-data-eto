{
 "cells": [
  {
   "cell_type": "markdown",
   "id": "c1d258f2",
   "metadata": {},
   "source": [
    "# Load Libraries"
   ]
  },
  {
   "cell_type": "code",
   "execution_count": 1,
   "id": "3869328f",
   "metadata": {},
   "outputs": [],
   "source": [
    "import os\n",
    "import warnings\n",
    "import logging\n",
    "import sys\n",
    "import pickle\n",
    "import numpy as np\n",
    "import pandas as pd\n",
    "import geopandas as gpd\n",
    "import dotenv\n",
    "\n",
    "# Load environment variables from .env file\n",
    "dotenv.load_dotenv()\n",
    "\n",
    "# Set up logging\n",
    "logging.basicConfig(level=logging.INFO)\n",
    "\n",
    "# Suppress warnings\n",
    "warnings.filterwarnings(\"ignore\")\n",
    "\n",
    "# Set display options for pandas\n",
    "pd.set_option('display.max_columns', None)\n",
    "pd.set_option('display.float_format', '{:.2f}'.format)\n",
    "pd.set_option('display.max_colwidth', None)"
   ]
  },
  {
   "cell_type": "markdown",
   "id": "4f2003da",
   "metadata": {},
   "source": [
    "# Load Data"
   ]
  },
  {
   "cell_type": "code",
   "execution_count": 2,
   "id": "8554eff9",
   "metadata": {},
   "outputs": [
    {
     "name": "stderr",
     "output_type": "stream",
     "text": [
      "INFO:root:Data loaded successfully from D:\\\\Pooya\\\\Storegs\\\\Dropbox\\\\IRIMO\\\\Export\\\\Iran_Data_1982_2023\\Iran_Data_1982_2023.parquet\n",
      "INFO:root:Geoinfo loaded successfully from D:\\\\Pooya\\\\Storegs\\\\Dropbox\\\\IRIMO\\\\Export\\\\Iran_Data_1982_2023\\Iran_GeoInfo_1982_2023.geojson\n"
     ]
    }
   ],
   "source": [
    "# Define file paths using environment variables\n",
    "DATA_FOLDER_PATH = os.getenv('DATA_FOLDER_PATH')\n",
    "DATA_NAME = os.getenv('DATA_NAME')\n",
    "GEOINFO_NAME = os.getenv('GEOINFO_NAME')\n",
    "\n",
    "if not DATA_FOLDER_PATH or not DATA_NAME or not GEOINFO_NAME:\n",
    "    logging.error(\"Environment variables DATA_FOLDER_PATH, DATA_NAME, or GEOINFO_NAME are not set.\")\n",
    "    sys.exit(1)\n",
    "\n",
    "# Construct full file paths\n",
    "DATA_PATH = os.path.join(DATA_FOLDER_PATH, DATA_NAME + '.parquet')\n",
    "GEOINFO_PATH = os.path.join(DATA_FOLDER_PATH, GEOINFO_NAME + '.geojson')\n",
    "\n",
    "# Load datasets\n",
    "try:\n",
    "    # Read Parquet file with pandas\n",
    "    data = pd.read_parquet(DATA_PATH)\n",
    "    logging.info(f\"Data loaded successfully from {DATA_PATH}\")\n",
    "except Exception as e:\n",
    "    logging.error(f\"Error loading data from {DATA_PATH}: {e}\")\n",
    "    sys.exit(1)\n",
    "\n",
    "try:\n",
    "    # Read GeoJSON file with geopandas    \n",
    "    geoinfo = gpd.read_file(GEOINFO_PATH)\n",
    "    logging.info(f\"Geoinfo loaded successfully from {GEOINFO_PATH}\")\n",
    "except Exception as e:\n",
    "    logging.error(f\"Error loading geoinfo from {GEOINFO_PATH}: {e}\")\n",
    "    sys.exit(1)"
   ]
  },
  {
   "cell_type": "code",
   "execution_count": 3,
   "id": "2701dd3b",
   "metadata": {},
   "outputs": [
    {
     "name": "stdout",
     "output_type": "stream",
     "text": [
      "<class 'pandas.core.frame.DataFrame'>\n",
      "RangeIndex: 3613873 entries, 0 to 3613872\n",
      "Data columns (total 55 columns):\n",
      " #   Column             Dtype         \n",
      "---  ------             -----         \n",
      " 0   station_id         category      \n",
      " 1   station_name       category      \n",
      " 2   region_id          category      \n",
      " 3   region_name        category      \n",
      " 4   lat                float64       \n",
      " 5   lon                float64       \n",
      " 6   station_elevation  float64       \n",
      " 7   date               datetime64[ns]\n",
      " 8   vvmin              float64       \n",
      " 9   ff_max             float64       \n",
      " 10  ffm                float64       \n",
      " 11  ff_gust_max        float64       \n",
      " 12  dd_gust_max        float64       \n",
      " 13  tmax               float64       \n",
      " 14  tmin               float64       \n",
      " 15  tm                 float64       \n",
      " 16  pmin               float64       \n",
      " 17  pm                 float64       \n",
      " 18  p0m                float64       \n",
      " 19  ewm                float64       \n",
      " 20  dj18               float64       \n",
      " 21  rrr24              float64       \n",
      " 22  rrrtmax            float64       \n",
      " 23  nm                 float64       \n",
      " 24  nmax               float64       \n",
      " 25  essmax             float64       \n",
      " 26  ness               float64       \n",
      " 27  umax               float64       \n",
      " 28  umin               float64       \n",
      " 29  um                 float64       \n",
      " 30  sshn               float64       \n",
      " 31  radglo24           float64       \n",
      " 32  evt                float64       \n",
      " 33  td_m               float64       \n",
      " 34  twet_m             float64       \n",
      " 35  hrel_03            float64       \n",
      " 36  hrel_09            float64       \n",
      " 37  hrel_15            float64       \n",
      " 38  ss24               float64       \n",
      " 39  tsoil_m            float64       \n",
      " 40  tsoil_min          float64       \n",
      " 41  pmax               float64       \n",
      " 42  p0max              float64       \n",
      " 43  p0min              float64       \n",
      " 44  dj21               float64       \n",
      " 45  ewsm               float64       \n",
      " 46  dd_max             float64       \n",
      " 47  nsn                float64       \n",
      " 48  nrasn              float64       \n",
      " 49  ngf                float64       \n",
      " 50  nshra              float64       \n",
      " 51  ndu                float64       \n",
      " 52  nbdu               float64       \n",
      " 53  nra                float64       \n",
      " 54  nhz                float64       \n",
      "dtypes: category(4), datetime64[ns](1), float64(50)\n",
      "memory usage: 1.4 GB\n"
     ]
    }
   ],
   "source": [
    "data.info()"
   ]
  },
  {
   "cell_type": "markdown",
   "id": "8ab72965",
   "metadata": {},
   "source": [
    "# Filter Data"
   ]
  },
  {
   "cell_type": "code",
   "execution_count": 4,
   "id": "11f203d3",
   "metadata": {},
   "outputs": [],
   "source": [
    "selected_columns = [\n",
    "    'station_id',\n",
    "    'station_name',\n",
    "    'region_id',\n",
    "    'region_name',\n",
    "    'lat',\n",
    "    'lon',\n",
    "    'station_elevation',\n",
    "    'date',\n",
    "    'tmax',\n",
    "    'tmin',\n",
    "    'tm',\n",
    "    'umax',\n",
    "    'umin',\n",
    "    'um',\n",
    "    'ffm',\n",
    "    'sshn',\n",
    "    # 'rrr24',\n",
    "]\n",
    "\n",
    "df = data[selected_columns].copy()\n",
    "df.dropna(subset=selected_columns, inplace=True)"
   ]
  },
  {
   "cell_type": "code",
   "execution_count": 5,
   "id": "1134431d",
   "metadata": {},
   "outputs": [
    {
     "name": "stdout",
     "output_type": "stream",
     "text": [
      "<class 'pandas.core.frame.DataFrame'>\n",
      "Index: 2645844 entries, 90 to 3613804\n",
      "Data columns (total 16 columns):\n",
      " #   Column             Dtype         \n",
      "---  ------             -----         \n",
      " 0   station_id         category      \n",
      " 1   station_name       category      \n",
      " 2   region_id          category      \n",
      " 3   region_name        category      \n",
      " 4   lat                float64       \n",
      " 5   lon                float64       \n",
      " 6   station_elevation  float64       \n",
      " 7   date               datetime64[ns]\n",
      " 8   tmax               float64       \n",
      " 9   tmin               float64       \n",
      " 10  tm                 float64       \n",
      " 11  umax               float64       \n",
      " 12  umin               float64       \n",
      " 13  um                 float64       \n",
      " 14  ffm                float64       \n",
      " 15  sshn               float64       \n",
      "dtypes: category(4), datetime64[ns](1), float64(11)\n",
      "memory usage: 277.6 MB\n"
     ]
    }
   ],
   "source": [
    "df.info()"
   ]
  },
  {
   "cell_type": "markdown",
   "id": "d4c71d8b",
   "metadata": {},
   "source": [
    "# Filter Data"
   ]
  },
  {
   "cell_type": "code",
   "execution_count": 6,
   "id": "7d505b5f",
   "metadata": {},
   "outputs": [],
   "source": [
    "df.query('date >= \"1983-01-01\" and date <= \"2022-12-31\"', inplace=True)\n",
    "df.reset_index(drop=True, inplace=True)"
   ]
  },
  {
   "cell_type": "code",
   "execution_count": 7,
   "id": "81e35bdb",
   "metadata": {},
   "outputs": [
    {
     "data": {
      "application/vnd.microsoft.datawrangler.viewer.v0+json": {
       "columns": [
        {
         "name": "index",
         "rawType": "int64",
         "type": "integer"
        },
        {
         "name": "station_id",
         "rawType": "category",
         "type": "unknown"
        },
        {
         "name": "count",
         "rawType": "int64",
         "type": "integer"
        },
        {
         "name": "year",
         "rawType": "int64",
         "type": "integer"
        }
       ],
       "ref": "b500cafa-f9c0-4500-a156-1e19cfc9fe31",
       "rows": [
        [
         "0",
         "40875",
         "14485",
         "39"
        ],
        [
         "1",
         "40848",
         "14464",
         "39"
        ],
        [
         "2",
         "40859",
         "14433",
         "39"
        ],
        [
         "3",
         "40854",
         "14408",
         "39"
        ],
        [
         "4",
         "40731",
         "14385",
         "39"
        ],
        [
         "5",
         "40739",
         "14337",
         "39"
        ],
        [
         "6",
         "40798",
         "14327",
         "39"
        ],
        [
         "7",
         "40879",
         "14326",
         "39"
        ],
        [
         "8",
         "40841",
         "14313",
         "39"
        ],
        [
         "9",
         "40809",
         "14301",
         "39"
        ],
        [
         "10",
         "40738",
         "14301",
         "39"
        ],
        [
         "11",
         "40734",
         "14271",
         "39"
        ],
        [
         "12",
         "40821",
         "14240",
         "39"
        ],
        [
         "13",
         "40757",
         "14236",
         "39"
        ],
        [
         "14",
         "40743",
         "14235",
         "39"
        ],
        [
         "15",
         "40762",
         "14222",
         "38"
        ],
        [
         "16",
         "40745",
         "14214",
         "38"
        ],
        [
         "17",
         "40729",
         "14194",
         "38"
        ],
        [
         "18",
         "40882",
         "14189",
         "38"
        ],
        [
         "19",
         "40755",
         "14180",
         "38"
        ],
        [
         "20",
         "40769",
         "14096",
         "38"
        ],
        [
         "21",
         "40800",
         "14090",
         "38"
        ],
        [
         "22",
         "40754",
         "14084",
         "38"
        ],
        [
         "23",
         "40782",
         "14082",
         "38"
        ],
        [
         "24",
         "40856",
         "14078",
         "38"
        ],
        [
         "25",
         "40712",
         "14049",
         "38"
        ],
        [
         "26",
         "40706",
         "14035",
         "38"
        ],
        [
         "27",
         "40736",
         "14023",
         "38"
        ],
        [
         "28",
         "40719",
         "14019",
         "38"
        ],
        [
         "29",
         "40737",
         "14017",
         "38"
        ],
        [
         "30",
         "40829",
         "13942",
         "38"
        ],
        [
         "31",
         "40766",
         "13928",
         "38"
        ],
        [
         "32",
         "40741",
         "13898",
         "38"
        ],
        [
         "33",
         "40747",
         "13842",
         "37"
        ],
        [
         "34",
         "40723",
         "13817",
         "37"
        ],
        [
         "35",
         "40785",
         "13814",
         "37"
        ],
        [
         "36",
         "40703",
         "13812",
         "37"
        ],
        [
         "37",
         "40802",
         "13793",
         "37"
        ],
        [
         "38",
         "40732",
         "13774",
         "37"
        ],
        [
         "39",
         "40727",
         "13768",
         "37"
        ],
        [
         "40",
         "40768",
         "13684",
         "37"
        ],
        [
         "41",
         "40893",
         "13629",
         "37"
        ],
        [
         "42",
         "40851",
         "13590",
         "37"
        ],
        [
         "43",
         "40791",
         "13583",
         "37"
        ],
        [
         "44",
         "40718",
         "13534",
         "37"
        ],
        [
         "45",
         "40890",
         "13421",
         "36"
        ],
        [
         "46",
         "40858",
         "13417",
         "36"
        ],
        [
         "47",
         "40752",
         "13388",
         "36"
        ],
        [
         "48",
         "40740",
         "13387",
         "36"
        ],
        [
         "49",
         "40713",
         "13379",
         "36"
        ]
       ],
       "shape": {
        "columns": 3,
        "rows": 448
       }
      },
      "text/html": [
       "<div>\n",
       "<style scoped>\n",
       "    .dataframe tbody tr th:only-of-type {\n",
       "        vertical-align: middle;\n",
       "    }\n",
       "\n",
       "    .dataframe tbody tr th {\n",
       "        vertical-align: top;\n",
       "    }\n",
       "\n",
       "    .dataframe thead th {\n",
       "        text-align: right;\n",
       "    }\n",
       "</style>\n",
       "<table border=\"1\" class=\"dataframe\">\n",
       "  <thead>\n",
       "    <tr style=\"text-align: right;\">\n",
       "      <th></th>\n",
       "      <th>station_id</th>\n",
       "      <th>count</th>\n",
       "      <th>year</th>\n",
       "    </tr>\n",
       "  </thead>\n",
       "  <tbody>\n",
       "    <tr>\n",
       "      <th>0</th>\n",
       "      <td>40875</td>\n",
       "      <td>14485</td>\n",
       "      <td>39</td>\n",
       "    </tr>\n",
       "    <tr>\n",
       "      <th>1</th>\n",
       "      <td>40848</td>\n",
       "      <td>14464</td>\n",
       "      <td>39</td>\n",
       "    </tr>\n",
       "    <tr>\n",
       "      <th>2</th>\n",
       "      <td>40859</td>\n",
       "      <td>14433</td>\n",
       "      <td>39</td>\n",
       "    </tr>\n",
       "    <tr>\n",
       "      <th>3</th>\n",
       "      <td>40854</td>\n",
       "      <td>14408</td>\n",
       "      <td>39</td>\n",
       "    </tr>\n",
       "    <tr>\n",
       "      <th>4</th>\n",
       "      <td>40731</td>\n",
       "      <td>14385</td>\n",
       "      <td>39</td>\n",
       "    </tr>\n",
       "    <tr>\n",
       "      <th>...</th>\n",
       "      <td>...</td>\n",
       "      <td>...</td>\n",
       "      <td>...</td>\n",
       "    </tr>\n",
       "    <tr>\n",
       "      <th>443</th>\n",
       "      <td>99534</td>\n",
       "      <td>0</td>\n",
       "      <td>0</td>\n",
       "    </tr>\n",
       "    <tr>\n",
       "      <th>444</th>\n",
       "      <td>99536</td>\n",
       "      <td>0</td>\n",
       "      <td>0</td>\n",
       "    </tr>\n",
       "    <tr>\n",
       "      <th>445</th>\n",
       "      <td>99546</td>\n",
       "      <td>0</td>\n",
       "      <td>0</td>\n",
       "    </tr>\n",
       "    <tr>\n",
       "      <th>446</th>\n",
       "      <td>99560</td>\n",
       "      <td>0</td>\n",
       "      <td>0</td>\n",
       "    </tr>\n",
       "    <tr>\n",
       "      <th>447</th>\n",
       "      <td>18011</td>\n",
       "      <td>0</td>\n",
       "      <td>0</td>\n",
       "    </tr>\n",
       "  </tbody>\n",
       "</table>\n",
       "<p>448 rows × 3 columns</p>\n",
       "</div>"
      ],
      "text/plain": [
       "    station_id  count  year\n",
       "0        40875  14485    39\n",
       "1        40848  14464    39\n",
       "2        40859  14433    39\n",
       "3        40854  14408    39\n",
       "4        40731  14385    39\n",
       "..         ...    ...   ...\n",
       "443      99534      0     0\n",
       "444      99536      0     0\n",
       "445      99546      0     0\n",
       "446      99560      0     0\n",
       "447      18011      0     0\n",
       "\n",
       "[448 rows x 3 columns]"
      ]
     },
     "execution_count": 7,
     "metadata": {},
     "output_type": "execute_result"
    }
   ],
   "source": [
    "# Calculate number of records per station`\n",
    "station_record_counts = df['station_id'].value_counts().reset_index()\n",
    "\n",
    "station_record_counts['year'] = station_record_counts[\"count\"] // 365\n",
    "\n",
    "station_record_counts\n"
   ]
  },
  {
   "cell_type": "markdown",
   "id": "fe0714f0",
   "metadata": {},
   "source": [
    "# Export Data"
   ]
  },
  {
   "cell_type": "code",
   "execution_count": 8,
   "id": "b1a2ae53",
   "metadata": {},
   "outputs": [],
   "source": [
    "# To pickle in data folder\n",
    "with open('../../Data/Data_Iran_1983_2022.pkl', 'wb') as f:\n",
    "    pickle.dump(df, f)"
   ]
  }
 ],
 "metadata": {
  "kernelspec": {
   "display_name": "panel-data-eto (3.12.11)",
   "language": "python",
   "name": "python3"
  },
  "language_info": {
   "codemirror_mode": {
    "name": "ipython",
    "version": 3
   },
   "file_extension": ".py",
   "mimetype": "text/x-python",
   "name": "python",
   "nbconvert_exporter": "python",
   "pygments_lexer": "ipython3",
   "version": "3.12.11"
  }
 },
 "nbformat": 4,
 "nbformat_minor": 5
}
