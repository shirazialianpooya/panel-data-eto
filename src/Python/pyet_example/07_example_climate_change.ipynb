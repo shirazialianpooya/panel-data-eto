{
 "cells": [
  {
   "cell_type": "markdown",
   "metadata": {},
   "source": [
    "# Potential evapotranspiration under warming and elevated $CO_2$ concentration\n",
    "*M. Vremec, R.A. Collenteur University of Graz, 2021*\n",
    "\n",
    "In this notebook it is shown how to estimate Potential Evapotranspiration under elevated $CO_2$ conditions and an increase in temperature.\n",
    "The work follows the suggestions made by Yang et al. (2019) to include the sensitivity of stomatal resistance to $CO_2$ in the Penman-Monteith equation.\n",
    "\n",
    "Yang, Y., Roderick, M.L., Zhang, S. et al. Hydrologic implications of vegetation response to elevated CO2 in climate projections. Nature Clim Change 9, 44–48 (2019). https://doi.org/10.1038/s41558-018-0361-0"
   ]
  },
  {
   "cell_type": "code",
   "execution_count": null,
   "metadata": {},
   "outputs": [],
   "source": [
    "import pandas as pd\n",
    "import numpy as np\n",
    "import matplotlib.pyplot as plt\n",
    "\n",
    "import pyet as pyet"
   ]
  },
  {
   "cell_type": "markdown",
   "metadata": {},
   "source": [
    "## 1. Load daily data from ZAMG (Messstationen Tagesdaten)\n",
    "\n",
    "station: Graz Universität 16412\n",
    "\n",
    "Selected variables:\n",
    "- globalstrahlung (global radiation), J/cm2 needs to be in MJ/m3d, ZAMG abbreviation - strahl\n",
    "- arithmetische windgeschwindigkeit (wind speed), m/s, ZAMG abbreviation - vv\n",
    "- relative feuchte (relative humidity), %, ZAMG abbreviation - rel\n",
    "- lufttemparatur (air temperature) in 2 m, C, ZAMG abbreviation - t\n",
    "- lufttemperatur (air temperature) max in 2 m, C, ZAMG abbreviation - tmax\n",
    "- lufttemperatur (air temperature) min in 2 m, C, ZAMG abbreviation - tmin\n",
    "- latitute and elevation of a station"
   ]
  },
  {
   "cell_type": "code",
   "execution_count": null,
   "metadata": {},
   "outputs": [],
   "source": [
    "#read data\n",
    "data_16412 = pd.read_csv('data/example_1/klima_daily.csv', index_col=1, parse_dates=True)\n",
    "data_16412"
   ]
  },
  {
   "cell_type": "code",
   "execution_count": null,
   "metadata": {},
   "outputs": [],
   "source": [
    "# Convert Glabalstrahlung J/cm2 to MJ/m2 by dividing to 100\n",
    "\n",
    "meteo = pd.DataFrame({\"time\":data_16412.index, \"tmean\":data_16412.t, \"tmax\":data_16412.tmax, \"tmin\":data_16412.tmin, \"rh\":data_16412.rel, \n",
    "                      \"wind\":data_16412.vv, \"rs\":data_16412.strahl/100})\n",
    "time, tmean, tmax, tmin, rh, wind, rs = [meteo[col] for col in meteo.columns]\n",
    "\n",
    "lat = 47.077778 * np.pi / 180  # Latitude of the meteorological station, converting from degrees to radians\n",
    "elevation = 367  # meters above sea-level"
   ]
  },
  {
   "cell_type": "markdown",
   "metadata": {},
   "source": [
    "## 2.Estimate potential evapotranspiration under RCP scenarios"
   ]
  },
  {
   "cell_type": "code",
   "execution_count": null,
   "metadata": {},
   "outputs": [],
   "source": [
    "# the first element in the list includes the rise in temperature, and the CO2 concentration\n",
    "rcp_26 = [1.3, 450]\n",
    "rcp_45 = [2, 650]\n",
    "rcp_85 = [4.5, 850]\n",
    "\n",
    "def pe_cc(tincrease, co2):\n",
    "    pe = pyet.pm(tmean+tincrease, wind, rs=rs, elevation=elevation, lat=lat, \n",
    "                 tmax=tmax+tincrease, tmin=tmin+tincrease, rh=rh, co2=co2)\n",
    "    return pe\n",
    "\n",
    "# Estimate evapotranspiration with four different methods and create a dataframe\n",
    "pet_df = pd.DataFrame()\n",
    "pet_df[\"amb.\"] = pe_cc(0, 420)\n",
    "pet_df[\"RCP 2.6\"] = pe_cc(rcp_26[0], rcp_26[1])\n",
    "pet_df[\"RCP 4.5\"] = pe_cc(rcp_45[0], rcp_45[1])\n",
    "pet_df[\"RCP 8.5\"] = pe_cc(rcp_85[0], rcp_85[1])"
   ]
  },
  {
   "cell_type": "code",
   "execution_count": null,
   "metadata": {},
   "outputs": [],
   "source": [
    "fig, axs = plt.subplots(figsize=(13,4), ncols=2)\n",
    "pet_df.plot(ax=axs[0])\n",
    "pet_df.cumsum().plot(ax=axs[1], legend=False)\n",
    "\n",
    "axs[0].set_ylabel(\"PET [mm/day]\", fontsize=12)\n",
    "axs[1].set_ylabel(\"Cumulative PET [mm]\", fontsize=12)\n",
    "axs[0].legend(ncol=6, loc=[0,1.])\n",
    "for i in (0,1):\n",
    "    axs[i].set_xlabel(\"Date\", fontsize=12)"
   ]
  }
 ],
 "metadata": {
  "kernelspec": {
   "display_name": "Python 3 (ipykernel)",
   "language": "python",
   "name": "python3"
  },
  "language_info": {
   "codemirror_mode": {
    "name": "ipython",
    "version": 3
   },
   "file_extension": ".py",
   "mimetype": "text/x-python",
   "name": "python",
   "nbconvert_exporter": "python",
   "pygments_lexer": "ipython3",
   "version": "3.11.5"
  }
 },
 "nbformat": 4,
 "nbformat_minor": 4
}
