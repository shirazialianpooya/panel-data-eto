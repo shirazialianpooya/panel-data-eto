{
 "cells": [
  {
   "cell_type": "markdown",
   "id": "6ea11d16",
   "metadata": {},
   "source": [
    "# Load Libraries"
   ]
  },
  {
   "cell_type": "code",
   "execution_count": 1,
   "id": "e887d007",
   "metadata": {},
   "outputs": [],
   "source": [
    "import os\n",
    "import sys\n",
    "import math\n",
    "import warnings\n",
    "import logging\n",
    "import pickle\n",
    "import numpy as np\n",
    "import pandas as pd\n",
    "import geopandas as gpd\n",
    "import dotenv\n",
    "import pyet\n",
    "\n",
    "\n",
    "import matplotlib.pyplot as plt\n",
    "\n",
    "from linearmodels.panel import PanelOLS, RandomEffects\n",
    "from linearmodels.panel import compare\n",
    "\n",
    "from sklearn.ensemble import RandomForestRegressor\n",
    "from sklearn.linear_model import LinearRegression\n",
    "from sklearn.multioutput import MultiOutputRegressor\n",
    "from sklearn.model_selection import GroupKFold, RandomizedSearchCV\n",
    "from sklearn.preprocessing import StandardScaler\n",
    "from sklearn.metrics import mean_squared_error, mean_absolute_error, r2_score\n",
    "\n",
    "from scipy.optimize import minimize\n",
    "from scipy.stats import randint, uniform\n",
    "\n",
    "import lightgbm as lgb\n",
    "from lightgbm import LGBMRegressor\n",
    "\n",
    "# Set warnings\n",
    "warnings.filterwarnings(\"ignore\")\n",
    "\n",
    "# Load environment variables from .env file\n",
    "dotenv.load_dotenv()\n",
    "\n",
    "# Set up logging\n",
    "logging.basicConfig(level=logging.INFO)\n",
    "\n",
    "# Suppress warnings\n",
    "warnings.filterwarnings(\"ignore\")\n",
    "\n",
    "# Set display options for pandas\n",
    "pd.set_option('display.max_columns', None)\n",
    "pd.set_option('display.float_format', '{:.2f}'.format)\n",
    "pd.set_option('display.max_colwidth', None)"
   ]
  },
  {
   "cell_type": "markdown",
   "id": "b8b86264",
   "metadata": {},
   "source": [
    "# Load Data"
   ]
  },
  {
   "cell_type": "code",
   "execution_count": 2,
   "id": "7624c069",
   "metadata": {},
   "outputs": [
    {
     "name": "stderr",
     "output_type": "stream",
     "text": [
      "INFO:root:Data loaded from pickle file.\n"
     ]
    }
   ],
   "source": [
    "# Load Data From Pickle\n",
    "with open('../../data/ETo/Khorasan_ETo_Data_1950_2025.pkl', 'rb') as f:\n",
    "    data = pickle.load(f)\n",
    "    logging.info(\"Data loaded from pickle file.\")"
   ]
  },
  {
   "cell_type": "code",
   "execution_count": 3,
   "id": "5e9011dd",
   "metadata": {},
   "outputs": [
    {
     "name": "stdout",
     "output_type": "stream",
     "text": [
      "<class 'pandas.core.frame.DataFrame'>\n",
      "RangeIndex: 2263576 entries, 0 to 2263575\n",
      "Data columns (total 36 columns):\n",
      " #   Column             Dtype         \n",
      "---  ------             -----         \n",
      " 0   date               datetime64[ns]\n",
      " 1   station_id         object        \n",
      " 2   station_name       object        \n",
      " 3   region_id          object        \n",
      " 4   region_name        object        \n",
      " 5   lat                float64       \n",
      " 6   lon                float64       \n",
      " 7   station_elevation  float64       \n",
      " 8   tmax               float64       \n",
      " 9   tmin               float64       \n",
      " 10  tm                 float64       \n",
      " 11  umax               float64       \n",
      " 12  umin               float64       \n",
      " 13  um                 float64       \n",
      " 14  ffm                float64       \n",
      " 15  sshn               float64       \n",
      " 16  rrr24              float64       \n",
      " 17  0                  float64       \n",
      " 18  Penman             float64       \n",
      " 19  FAO-56             float64       \n",
      " 20  Priestley-Taylor   float64       \n",
      " 21  Kimberly-Penman    float64       \n",
      " 22  Thom-Oliver        float64       \n",
      " 23  Blaney-Criddle     float64       \n",
      " 24  Hamon              float64       \n",
      " 25  Romanenko          float64       \n",
      " 26  Linacre            float64       \n",
      " 27  Haude              float64       \n",
      " 28  Turc               float64       \n",
      " 29  Jensen-Haise       float64       \n",
      " 30  Mcguinness-Bordne  float64       \n",
      " 31  Hargreaves         float64       \n",
      " 32  FAO-24             float64       \n",
      " 33  Abtew              float64       \n",
      " 34  Makkink            float64       \n",
      " 35  Oudin              float64       \n",
      "dtypes: datetime64[ns](1), float64(31), object(4)\n",
      "memory usage: 621.7+ MB\n"
     ]
    }
   ],
   "source": [
    "data.info()"
   ]
  },
  {
   "cell_type": "code",
   "execution_count": 4,
   "id": "0758e18f",
   "metadata": {},
   "outputs": [],
   "source": [
    "# Filter Data\n",
    "df = data[[\n",
    "    \"region_name\",\n",
    "    \"region_id\",\n",
    "    \"station_name\",\n",
    "    \"station_id\",\n",
    "    \"station_elevation\",\n",
    "    \"lat\",\n",
    "    \"lon\",\n",
    "    \"date\",\n",
    "    \"tmax\",\n",
    "    \"tmin\",\n",
    "    \"tm\",\n",
    "    \"umax\",\n",
    "    \"umin\",\n",
    "    \"um\",\n",
    "    \"ffm\",\n",
    "    \"sshn\",\n",
    "    \"rrr24\",\n",
    "    \"FAO-56\",\n",
    "    \"Penman\",\n",
    "    \"Hargreaves\",\n",
    "]]"
   ]
  },
  {
   "cell_type": "code",
   "execution_count": 5,
   "id": "cdcc918a",
   "metadata": {},
   "outputs": [
    {
     "name": "stdout",
     "output_type": "stream",
     "text": [
      "<class 'pandas.core.frame.DataFrame'>\n",
      "RangeIndex: 2263576 entries, 0 to 2263575\n",
      "Data columns (total 36 columns):\n",
      " #   Column             Dtype         \n",
      "---  ------             -----         \n",
      " 0   date               datetime64[ns]\n",
      " 1   station_id         object        \n",
      " 2   station_name       object        \n",
      " 3   region_id          object        \n",
      " 4   region_name        object        \n",
      " 5   lat                float64       \n",
      " 6   lon                float64       \n",
      " 7   station_elevation  float64       \n",
      " 8   tmax               float64       \n",
      " 9   tmin               float64       \n",
      " 10  tm                 float64       \n",
      " 11  umax               float64       \n",
      " 12  umin               float64       \n",
      " 13  um                 float64       \n",
      " 14  ffm                float64       \n",
      " 15  sshn               float64       \n",
      " 16  rrr24              float64       \n",
      " 17  0                  float64       \n",
      " 18  Penman             float64       \n",
      " 19  FAO-56             float64       \n",
      " 20  Priestley-Taylor   float64       \n",
      " 21  Kimberly-Penman    float64       \n",
      " 22  Thom-Oliver        float64       \n",
      " 23  Blaney-Criddle     float64       \n",
      " 24  Hamon              float64       \n",
      " 25  Romanenko          float64       \n",
      " 26  Linacre            float64       \n",
      " 27  Haude              float64       \n",
      " 28  Turc               float64       \n",
      " 29  Jensen-Haise       float64       \n",
      " 30  Mcguinness-Bordne  float64       \n",
      " 31  Hargreaves         float64       \n",
      " 32  FAO-24             float64       \n",
      " 33  Abtew              float64       \n",
      " 34  Makkink            float64       \n",
      " 35  Oudin              float64       \n",
      "dtypes: datetime64[ns](1), float64(31), object(4)\n",
      "memory usage: 621.7+ MB\n"
     ]
    }
   ],
   "source": [
    "data.info()"
   ]
  },
  {
   "cell_type": "code",
   "execution_count": 6,
   "id": "ba66ab73",
   "metadata": {},
   "outputs": [
    {
     "data": {
      "application/vnd.microsoft.datawrangler.viewer.v0+json": {
       "columns": [
        {
         "name": "index",
         "rawType": "int64",
         "type": "integer"
        },
        {
         "name": "region_name",
         "rawType": "object",
         "type": "string"
        },
        {
         "name": "station_name",
         "rawType": "object",
         "type": "string"
        }
       ],
       "ref": "42a5b0d3-3d37-4d57-b6cd-51a0f09277f8",
       "rows": [
        [
         "0",
         "South Khorasan",
         "Ghohestan"
        ],
        [
         "1",
         "South Khorasan",
         "Eshgh Abad"
        ],
        [
         "2",
         "South Khorasan",
         "Fath Abad Ferdows"
        ],
        [
         "3",
         "South Khorasan",
         "Ghani Abad"
        ],
        [
         "4",
         "South Khorasan",
         "Seghale"
        ],
        [
         "5",
         "South Khorasan",
         "Aran Shar(Sedeh)"
        ],
        [
         "6",
         "South Khorasan",
         "Esfeden"
        ],
        [
         "7",
         "South Khorasan",
         "Khosf"
        ],
        [
         "8",
         "South Khorasan",
         "Aliabad Zarein"
        ],
        [
         "9",
         "South Khorasan",
         "Doroh"
        ],
        [
         "10",
         "South Khorasan",
         "Bagheran"
        ],
        [
         "11",
         "South Khorasan",
         "Bandan"
        ],
        [
         "12",
         "South Khorasan",
         "Tabas"
        ],
        [
         "13",
         "South Khorasan",
         "Ferdows"
        ],
        [
         "14",
         "South Khorasan",
         "Qaen"
        ],
        [
         "15",
         "South Khorasan",
         "Birjand"
        ],
        [
         "16",
         "South Khorasan",
         "Nehbandan"
        ],
        [
         "17",
         "South Khorasan",
         "Tabas (Airport)"
        ],
        [
         "18",
         "South Khorasan",
         "Sarayan"
        ],
        [
         "19",
         "South Khorasan",
         "Hajiabad (South Khorasan)"
        ],
        [
         "20",
         "South Khorasan",
         "Boshruyeh"
        ],
        [
         "21",
         "South Khorasan",
         "Darmian"
        ],
        [
         "22",
         "South Khorasan",
         "Zahan"
        ],
        [
         "23",
         "South Khorasan",
         "Sarbisheh"
        ],
        [
         "24",
         "South Khorasan",
         "Dehsalam"
        ],
        [
         "25",
         "South Khorasan",
         "Khezriy-Supplementary Synoptic"
        ],
        [
         "26",
         "Khorasan Razavi",
         "Robat-E-Samangan"
        ],
        [
         "27",
         "Khorasan Razavi",
         "Jovein"
        ],
        [
         "28",
         "Khorasan Razavi",
         "Soltanabad"
        ],
        [
         "29",
         "Khorasan Razavi",
         "Haram"
        ],
        [
         "30",
         "Khorasan Razavi",
         "Davarzan"
        ],
        [
         "31",
         "Khorasan Razavi",
         "Daneshgah Ferdosi"
        ],
        [
         "32",
         "Khorasan Razavi",
         "Sheshtamad"
        ],
        [
         "33",
         "Khorasan Razavi",
         "Zave"
        ],
        [
         "34",
         "Khorasan Razavi",
         "Feyzabad"
        ],
        [
         "35",
         "Khorasan Razavi",
         "Bakhezr"
        ],
        [
         "36",
         "Khorasan Razavi",
         "Roshtkhar"
        ],
        [
         "37",
         "Khorasan Razavi",
         "Quchan"
        ],
        [
         "38",
         "Khorasan Razavi",
         "Sarakhs"
        ],
        [
         "39",
         "Khorasan Razavi",
         "Sabzevar"
        ],
        [
         "40",
         "Khorasan Razavi",
         "Golmakan"
        ],
        [
         "41",
         "Khorasan Razavi",
         "Mashhad"
        ],
        [
         "42",
         "Khorasan Razavi",
         "Neyshabur"
        ],
        [
         "43",
         "Khorasan Razavi",
         "Torbat-E Heydariyeh"
        ],
        [
         "44",
         "Khorasan Razavi",
         "Kashmar"
        ],
        [
         "45",
         "Khorasan Razavi",
         "Gonabad"
        ],
        [
         "46",
         "Khorasan Razavi",
         "Torbat-E-Jam"
        ],
        [
         "47",
         "Khorasan Razavi",
         "Daregaz"
        ],
        [
         "48",
         "Khorasan Razavi",
         "Fariman"
        ],
        [
         "49",
         "Khorasan Razavi",
         "Khaf"
        ]
       ],
       "shape": {
        "columns": 2,
        "rows": 82
       }
      },
      "text/html": [
       "<div>\n",
       "<style scoped>\n",
       "    .dataframe tbody tr th:only-of-type {\n",
       "        vertical-align: middle;\n",
       "    }\n",
       "\n",
       "    .dataframe tbody tr th {\n",
       "        vertical-align: top;\n",
       "    }\n",
       "\n",
       "    .dataframe thead th {\n",
       "        text-align: right;\n",
       "    }\n",
       "</style>\n",
       "<table border=\"1\" class=\"dataframe\">\n",
       "  <thead>\n",
       "    <tr style=\"text-align: right;\">\n",
       "      <th></th>\n",
       "      <th>region_name</th>\n",
       "      <th>station_name</th>\n",
       "    </tr>\n",
       "  </thead>\n",
       "  <tbody>\n",
       "    <tr>\n",
       "      <th>0</th>\n",
       "      <td>South Khorasan</td>\n",
       "      <td>Ghohestan</td>\n",
       "    </tr>\n",
       "    <tr>\n",
       "      <th>1</th>\n",
       "      <td>South Khorasan</td>\n",
       "      <td>Eshgh Abad</td>\n",
       "    </tr>\n",
       "    <tr>\n",
       "      <th>2</th>\n",
       "      <td>South Khorasan</td>\n",
       "      <td>Fath Abad Ferdows</td>\n",
       "    </tr>\n",
       "    <tr>\n",
       "      <th>3</th>\n",
       "      <td>South Khorasan</td>\n",
       "      <td>Ghani Abad</td>\n",
       "    </tr>\n",
       "    <tr>\n",
       "      <th>4</th>\n",
       "      <td>South Khorasan</td>\n",
       "      <td>Seghale</td>\n",
       "    </tr>\n",
       "    <tr>\n",
       "      <th>...</th>\n",
       "      <td>...</td>\n",
       "      <td>...</td>\n",
       "    </tr>\n",
       "    <tr>\n",
       "      <th>77</th>\n",
       "      <td>North Khorasan</td>\n",
       "      <td>Raz</td>\n",
       "    </tr>\n",
       "    <tr>\n",
       "      <th>78</th>\n",
       "      <td>North Khorasan</td>\n",
       "      <td>Maneh-Va-Samalqan</td>\n",
       "    </tr>\n",
       "    <tr>\n",
       "      <th>79</th>\n",
       "      <td>North Khorasan</td>\n",
       "      <td>Farouj</td>\n",
       "    </tr>\n",
       "    <tr>\n",
       "      <th>80</th>\n",
       "      <td>North Khorasan</td>\n",
       "      <td>Esfarayen</td>\n",
       "    </tr>\n",
       "    <tr>\n",
       "      <th>81</th>\n",
       "      <td>North Khorasan</td>\n",
       "      <td>Jajarm</td>\n",
       "    </tr>\n",
       "  </tbody>\n",
       "</table>\n",
       "<p>82 rows × 2 columns</p>\n",
       "</div>"
      ],
      "text/plain": [
       "       region_name       station_name\n",
       "0   South Khorasan          Ghohestan\n",
       "1   South Khorasan         Eshgh Abad\n",
       "2   South Khorasan  Fath Abad Ferdows\n",
       "3   South Khorasan         Ghani Abad\n",
       "4   South Khorasan            Seghale\n",
       "..             ...                ...\n",
       "77  North Khorasan                Raz\n",
       "78  North Khorasan  Maneh-Va-Samalqan\n",
       "79  North Khorasan             Farouj\n",
       "80  North Khorasan          Esfarayen\n",
       "81  North Khorasan             Jajarm\n",
       "\n",
       "[82 rows x 2 columns]"
      ]
     },
     "execution_count": 6,
     "metadata": {},
     "output_type": "execute_result"
    }
   ],
   "source": [
    "df[['region_name', 'station_name']].drop_duplicates().reset_index(drop=True)"
   ]
  },
  {
   "cell_type": "code",
   "execution_count": 7,
   "id": "2784303d",
   "metadata": {},
   "outputs": [
    {
     "name": "stderr",
     "output_type": "stream",
     "text": [
      "INFO:root:region_id      3\n",
      "station_id    19\n",
      "dtype: int64\n"
     ]
    }
   ],
   "source": [
    "min_rows = 10 * 365\n",
    "df_filtered = df.groupby(['region_id', 'station_id']).filter(lambda x: x['FAO-56'].count() >= min_rows).reset_index(drop=True)\n",
    "logging.info(f\"{df_filtered[['region_id', 'station_id']].nunique()}\")"
   ]
  },
  {
   "cell_type": "code",
   "execution_count": 8,
   "id": "a80be4f1",
   "metadata": {},
   "outputs": [
    {
     "data": {
      "application/vnd.microsoft.datawrangler.viewer.v0+json": {
       "columns": [
        {
         "name": "index",
         "rawType": "int64",
         "type": "integer"
        },
        {
         "name": "region_name",
         "rawType": "object",
         "type": "string"
        },
        {
         "name": "region_id",
         "rawType": "object",
         "type": "string"
        },
        {
         "name": "station_name",
         "rawType": "object",
         "type": "string"
        },
        {
         "name": "station_id",
         "rawType": "object",
         "type": "string"
        }
       ],
       "ref": "fb6904a0-2d1c-40ba-9830-2d3b92fc3b95",
       "rows": [
        [
         "0",
         "South Khorasan",
         "OIMB",
         "Tabas",
         "40791"
        ],
        [
         "1",
         "South Khorasan",
         "OIMB",
         "Ferdows",
         "40792"
        ],
        [
         "2",
         "South Khorasan",
         "OIMB",
         "Qaen",
         "40793"
        ],
        [
         "3",
         "South Khorasan",
         "OIMB",
         "Birjand",
         "40809"
        ],
        [
         "4",
         "South Khorasan",
         "OIMB",
         "Nehbandan",
         "40827"
        ],
        [
         "5",
         "South Khorasan",
         "OIMB",
         "Boshruyeh",
         "99407"
        ],
        [
         "6",
         "Khorasan Razavi",
         "OIMM",
         "Quchan",
         "40740"
        ],
        [
         "7",
         "Khorasan Razavi",
         "OIMM",
         "Sarakhs",
         "40741"
        ],
        [
         "8",
         "Khorasan Razavi",
         "OIMM",
         "Sabzevar",
         "40743"
        ],
        [
         "9",
         "Khorasan Razavi",
         "OIMM",
         "Golmakan",
         "40744"
        ],
        [
         "10",
         "Khorasan Razavi",
         "OIMM",
         "Mashhad",
         "40745"
        ],
        [
         "11",
         "Khorasan Razavi",
         "OIMM",
         "Neyshabur",
         "40746"
        ],
        [
         "12",
         "Khorasan Razavi",
         "OIMM",
         "Torbat-E Heydariyeh",
         "40762"
        ],
        [
         "13",
         "Khorasan Razavi",
         "OIMM",
         "Kashmar",
         "40763"
        ],
        [
         "14",
         "Khorasan Razavi",
         "OIMM",
         "Gonabad",
         "40778"
        ],
        [
         "15",
         "Khorasan Razavi",
         "OIMM",
         "Torbat-E-Jam",
         "40806"
        ],
        [
         "16",
         "North Khorasan",
         "OIMN",
         "Bojnurd",
         "40723"
        ],
        [
         "17",
         "North Khorasan",
         "OIMN",
         "Esfarayen",
         "99287"
        ],
        [
         "18",
         "North Khorasan",
         "OIMN",
         "Jajarm",
         "99295"
        ]
       ],
       "shape": {
        "columns": 4,
        "rows": 19
       }
      },
      "text/html": [
       "<div>\n",
       "<style scoped>\n",
       "    .dataframe tbody tr th:only-of-type {\n",
       "        vertical-align: middle;\n",
       "    }\n",
       "\n",
       "    .dataframe tbody tr th {\n",
       "        vertical-align: top;\n",
       "    }\n",
       "\n",
       "    .dataframe thead th {\n",
       "        text-align: right;\n",
       "    }\n",
       "</style>\n",
       "<table border=\"1\" class=\"dataframe\">\n",
       "  <thead>\n",
       "    <tr style=\"text-align: right;\">\n",
       "      <th></th>\n",
       "      <th>region_name</th>\n",
       "      <th>region_id</th>\n",
       "      <th>station_name</th>\n",
       "      <th>station_id</th>\n",
       "    </tr>\n",
       "  </thead>\n",
       "  <tbody>\n",
       "    <tr>\n",
       "      <th>0</th>\n",
       "      <td>South Khorasan</td>\n",
       "      <td>OIMB</td>\n",
       "      <td>Tabas</td>\n",
       "      <td>40791</td>\n",
       "    </tr>\n",
       "    <tr>\n",
       "      <th>1</th>\n",
       "      <td>South Khorasan</td>\n",
       "      <td>OIMB</td>\n",
       "      <td>Ferdows</td>\n",
       "      <td>40792</td>\n",
       "    </tr>\n",
       "    <tr>\n",
       "      <th>2</th>\n",
       "      <td>South Khorasan</td>\n",
       "      <td>OIMB</td>\n",
       "      <td>Qaen</td>\n",
       "      <td>40793</td>\n",
       "    </tr>\n",
       "    <tr>\n",
       "      <th>3</th>\n",
       "      <td>South Khorasan</td>\n",
       "      <td>OIMB</td>\n",
       "      <td>Birjand</td>\n",
       "      <td>40809</td>\n",
       "    </tr>\n",
       "    <tr>\n",
       "      <th>4</th>\n",
       "      <td>South Khorasan</td>\n",
       "      <td>OIMB</td>\n",
       "      <td>Nehbandan</td>\n",
       "      <td>40827</td>\n",
       "    </tr>\n",
       "    <tr>\n",
       "      <th>5</th>\n",
       "      <td>South Khorasan</td>\n",
       "      <td>OIMB</td>\n",
       "      <td>Boshruyeh</td>\n",
       "      <td>99407</td>\n",
       "    </tr>\n",
       "    <tr>\n",
       "      <th>6</th>\n",
       "      <td>Khorasan Razavi</td>\n",
       "      <td>OIMM</td>\n",
       "      <td>Quchan</td>\n",
       "      <td>40740</td>\n",
       "    </tr>\n",
       "    <tr>\n",
       "      <th>7</th>\n",
       "      <td>Khorasan Razavi</td>\n",
       "      <td>OIMM</td>\n",
       "      <td>Sarakhs</td>\n",
       "      <td>40741</td>\n",
       "    </tr>\n",
       "    <tr>\n",
       "      <th>8</th>\n",
       "      <td>Khorasan Razavi</td>\n",
       "      <td>OIMM</td>\n",
       "      <td>Sabzevar</td>\n",
       "      <td>40743</td>\n",
       "    </tr>\n",
       "    <tr>\n",
       "      <th>9</th>\n",
       "      <td>Khorasan Razavi</td>\n",
       "      <td>OIMM</td>\n",
       "      <td>Golmakan</td>\n",
       "      <td>40744</td>\n",
       "    </tr>\n",
       "    <tr>\n",
       "      <th>10</th>\n",
       "      <td>Khorasan Razavi</td>\n",
       "      <td>OIMM</td>\n",
       "      <td>Mashhad</td>\n",
       "      <td>40745</td>\n",
       "    </tr>\n",
       "    <tr>\n",
       "      <th>11</th>\n",
       "      <td>Khorasan Razavi</td>\n",
       "      <td>OIMM</td>\n",
       "      <td>Neyshabur</td>\n",
       "      <td>40746</td>\n",
       "    </tr>\n",
       "    <tr>\n",
       "      <th>12</th>\n",
       "      <td>Khorasan Razavi</td>\n",
       "      <td>OIMM</td>\n",
       "      <td>Torbat-E Heydariyeh</td>\n",
       "      <td>40762</td>\n",
       "    </tr>\n",
       "    <tr>\n",
       "      <th>13</th>\n",
       "      <td>Khorasan Razavi</td>\n",
       "      <td>OIMM</td>\n",
       "      <td>Kashmar</td>\n",
       "      <td>40763</td>\n",
       "    </tr>\n",
       "    <tr>\n",
       "      <th>14</th>\n",
       "      <td>Khorasan Razavi</td>\n",
       "      <td>OIMM</td>\n",
       "      <td>Gonabad</td>\n",
       "      <td>40778</td>\n",
       "    </tr>\n",
       "    <tr>\n",
       "      <th>15</th>\n",
       "      <td>Khorasan Razavi</td>\n",
       "      <td>OIMM</td>\n",
       "      <td>Torbat-E-Jam</td>\n",
       "      <td>40806</td>\n",
       "    </tr>\n",
       "    <tr>\n",
       "      <th>16</th>\n",
       "      <td>North Khorasan</td>\n",
       "      <td>OIMN</td>\n",
       "      <td>Bojnurd</td>\n",
       "      <td>40723</td>\n",
       "    </tr>\n",
       "    <tr>\n",
       "      <th>17</th>\n",
       "      <td>North Khorasan</td>\n",
       "      <td>OIMN</td>\n",
       "      <td>Esfarayen</td>\n",
       "      <td>99287</td>\n",
       "    </tr>\n",
       "    <tr>\n",
       "      <th>18</th>\n",
       "      <td>North Khorasan</td>\n",
       "      <td>OIMN</td>\n",
       "      <td>Jajarm</td>\n",
       "      <td>99295</td>\n",
       "    </tr>\n",
       "  </tbody>\n",
       "</table>\n",
       "</div>"
      ],
      "text/plain": [
       "        region_name region_id         station_name station_id\n",
       "0    South Khorasan      OIMB                Tabas      40791\n",
       "1    South Khorasan      OIMB              Ferdows      40792\n",
       "2    South Khorasan      OIMB                 Qaen      40793\n",
       "3    South Khorasan      OIMB              Birjand      40809\n",
       "4    South Khorasan      OIMB            Nehbandan      40827\n",
       "5    South Khorasan      OIMB            Boshruyeh      99407\n",
       "6   Khorasan Razavi      OIMM               Quchan      40740\n",
       "7   Khorasan Razavi      OIMM              Sarakhs      40741\n",
       "8   Khorasan Razavi      OIMM             Sabzevar      40743\n",
       "9   Khorasan Razavi      OIMM             Golmakan      40744\n",
       "10  Khorasan Razavi      OIMM              Mashhad      40745\n",
       "11  Khorasan Razavi      OIMM            Neyshabur      40746\n",
       "12  Khorasan Razavi      OIMM  Torbat-E Heydariyeh      40762\n",
       "13  Khorasan Razavi      OIMM              Kashmar      40763\n",
       "14  Khorasan Razavi      OIMM              Gonabad      40778\n",
       "15  Khorasan Razavi      OIMM         Torbat-E-Jam      40806\n",
       "16   North Khorasan      OIMN              Bojnurd      40723\n",
       "17   North Khorasan      OIMN            Esfarayen      99287\n",
       "18   North Khorasan      OIMN               Jajarm      99295"
      ]
     },
     "execution_count": 8,
     "metadata": {},
     "output_type": "execute_result"
    }
   ],
   "source": [
    "df_filtered[['region_name', 'region_id', 'station_name', 'station_id']].drop_duplicates().reset_index(drop=True)"
   ]
  },
  {
   "cell_type": "markdown",
   "id": "801a96a3",
   "metadata": {},
   "source": [
    "# Intra-station Modeling"
   ]
  },
  {
   "cell_type": "code",
   "execution_count": 9,
   "id": "abc5f278",
   "metadata": {},
   "outputs": [
    {
     "name": "stdout",
     "output_type": "stream",
     "text": [
      "\n",
      "--- شروع مدل‌سازی درون‌ایستگاهی (ML) ---\n",
      "آموزش مدل برای ایستگاه: 40791\n",
      "آموزش مدل برای ایستگاه: 40792\n",
      "آموزش مدل برای ایستگاه: 40793\n",
      "آموزش مدل برای ایستگاه: 40809\n",
      "آموزش مدل برای ایستگاه: 40827\n",
      "آموزش مدل برای ایستگاه: 99407\n",
      "آموزش مدل برای ایستگاه: 40740\n",
      "آموزش مدل برای ایستگاه: 40741\n",
      "آموزش مدل برای ایستگاه: 40743\n",
      "آموزش مدل برای ایستگاه: 40744\n",
      "آموزش مدل برای ایستگاه: 40745\n",
      "آموزش مدل برای ایستگاه: 40746\n",
      "آموزش مدل برای ایستگاه: 40762\n",
      "آموزش مدل برای ایستگاه: 40763\n",
      "آموزش مدل برای ایستگاه: 40778\n",
      "آموزش مدل برای ایستگاه: 40806\n",
      "آموزش مدل برای ایستگاه: 40723\n",
      "آموزش مدل برای ایستگاه: 99287\n",
      "آموزش مدل برای ایستگاه: 99295\n",
      "مدل‌سازی درون‌ایستگاهی با موفقیت انجام شد.\n",
      "نمونه‌ای از پیش‌بینی‌های مدل ML:\n",
      "           region_name region_id station_name station_id  station_elevation  \\\n",
      "6926    South Khorasan      OIMB        Tabas      40791             711.00   \n",
      "6927    South Khorasan      OIMB        Tabas      40791             711.00   \n",
      "6928    South Khorasan      OIMB        Tabas      40791             711.00   \n",
      "6929    South Khorasan      OIMB        Tabas      40791             711.00   \n",
      "6930    South Khorasan      OIMB        Tabas      40791             711.00   \n",
      "...                ...       ...          ...        ...                ...   \n",
      "518163  North Khorasan      OIMN       Jajarm      99295             984.00   \n",
      "518164  North Khorasan      OIMN       Jajarm      99295             984.00   \n",
      "518165  North Khorasan      OIMN       Jajarm      99295             984.00   \n",
      "518166  North Khorasan      OIMN       Jajarm      99295             984.00   \n",
      "518167  North Khorasan      OIMN       Jajarm      99295             984.00   \n",
      "\n",
      "         lat   lon                date  tmax  tmin    tm  umax  umin    um  \\\n",
      "6926   33.60 56.95 1969-12-18 12:00:00 18.00  1.00  9.50 92.00 50.00 67.40   \n",
      "6927   33.60 56.95 1969-12-19 12:00:00 18.00  1.00  9.50 89.00 42.00 61.20   \n",
      "6928   33.60 56.95 1969-12-20 12:00:00 17.00  1.00  9.00 81.00 41.00 58.80   \n",
      "6929   33.60 56.95 1969-12-21 12:00:00 19.00  2.00 10.50 85.00 36.00 57.80   \n",
      "6930   33.60 56.95 1969-12-22 12:00:00 20.00  2.00 11.00 75.00 32.00 51.40   \n",
      "...      ...   ...                 ...   ...   ...   ...   ...   ...   ...   \n",
      "518163 36.96 56.34 2025-08-27 12:00:00 33.60 20.40 27.00 56.00 24.00 39.38   \n",
      "518164 36.96 56.34 2025-08-28 12:00:00 35.50 21.40 28.50 56.00 16.00 38.92   \n",
      "518165 36.96 56.34 2025-08-29 12:00:00 35.60 21.40 28.50 62.00 16.00 37.25   \n",
      "518166 36.96 56.34 2025-08-30 12:00:00 38.30 20.20 29.30 46.00 10.00 25.92   \n",
      "518167 36.96 56.34 2025-08-31 12:00:00 36.60 19.10 27.80 44.00  9.00 23.05   \n",
      "\n",
      "        ffm  sshn  rrr24  FAO-56  Penman  Hargreaves  ml_pred_fao56  \\\n",
      "6926   0.00  9.00   0.00    0.94    1.04        1.83           0.96   \n",
      "6927   0.60  9.00   0.00    1.07    1.08        1.83           1.02   \n",
      "6928   0.20  7.00   0.00    0.88    0.98        1.74           0.85   \n",
      "6929   0.40  6.50   0.00    1.00    1.04        1.89           0.98   \n",
      "6930   0.40  8.30   0.00    1.09    1.13        1.99           1.03   \n",
      "...     ...   ...    ...     ...     ...         ...            ...   \n",
      "518163 7.96 12.30   0.00    9.56    6.83        5.38           9.16   \n",
      "518164 6.75 11.70   0.00    9.61    6.64        5.73           9.54   \n",
      "518165 8.21 12.00   0.00    9.87    6.97        5.72           9.71   \n",
      "518166 3.92 12.00   0.00    8.72    6.10        6.53           8.96   \n",
      "518167 4.42 11.80   0.00    8.90    6.02        6.17           8.66   \n",
      "\n",
      "        ml_pred_penman  \n",
      "6926              1.05  \n",
      "6927              1.07  \n",
      "6928              0.98  \n",
      "6929              1.04  \n",
      "6930              1.11  \n",
      "...                ...  \n",
      "518163            6.58  \n",
      "518164            6.62  \n",
      "518165            6.81  \n",
      "518166            6.22  \n",
      "518167            5.91  \n",
      "\n",
      "[261329 rows x 22 columns]\n"
     ]
    }
   ],
   "source": [
    "predictors = ['Hargreaves', 'tm', 'tmin', 'tmax']\n",
    "targets = ['FAO-56', 'Penman']\n",
    "\n",
    "df_filtered.dropna(subset=predictors + targets, inplace=True)\n",
    "\n",
    "X = df_filtered[predictors]\n",
    "y = df_filtered[targets]\n",
    "\n",
    "df_filtered['ml_pred_fao56'] = np.nan\n",
    "df_filtered['ml_pred_penman'] = np.nan\n",
    "\n",
    "station_models = {}\n",
    "\n",
    "print(\"\\n--- شروع مدل‌سازی درون‌ایستگاهی (ML) ---\")\n",
    "for station in df_filtered['station_id'].unique():\n",
    "    print(f\"آموزش مدل برای ایستگاه: {station}\")\n",
    "\n",
    "    df_station = df_filtered[df_filtered['station_id'] == station]\n",
    "    X_station = df_station[predictors]\n",
    "    y_station = df_station[targets]\n",
    "    \n",
    "    model = RandomForestRegressor(n_estimators=200, random_state=42)\n",
    "    model.fit(X_station, y_station)\n",
    "    \n",
    "    station_models[station] = model\n",
    "    \n",
    "    predictions = model.predict(X_station)\n",
    "    \n",
    "    df_filtered.loc[df_filtered['station_id'] == station, 'ml_pred_fao56'] = predictions[:, 0]\n",
    "    df_filtered.loc[df_filtered['station_id'] == station, 'ml_pred_penman'] = predictions[:, 1]\n",
    "\n",
    "print(\"مدل‌سازی درون‌ایستگاهی با موفقیت انجام شد.\")\n",
    "print(\"نمونه‌ای از پیش‌بینی‌های مدل ML:\")\n",
    "print(df_filtered)"
   ]
  },
  {
   "cell_type": "markdown",
   "id": "f04ba2fe",
   "metadata": {},
   "source": [
    "# Inter-station Modeling"
   ]
  },
  {
   "cell_type": "code",
   "execution_count": null,
   "id": "65a35392",
   "metadata": {},
   "outputs": [],
   "source": [
    "df_panel = df_filtered.set_index(['station_id', 'date'])\n",
    "\n",
    "df_filtered['panel_pred_fao56'] = np.nan\n",
    "df_filtered['panel_pred_penman'] = np.nan\n",
    "\n",
    "print(\"\\n--- شروع مدل‌سازی بین‌ایستگاهی (Panel) ---\")\n",
    "\n",
    "for target_variable in targets:\n",
    "    print(f\"آموزش مدل پانلی برای متغیر: {target_variable}\")\n",
    "    \n",
    "    formula = f\"{target_variable} ~ 1 + {' + '.join(predictors)} + EntityEffects\"\n",
    "    model_panel = PanelOLS.from_formula(formula, data=df_panel)\n",
    "    results = model_panel.fit()\n",
    "    \n",
    "    if target_variable == 'panel_pred_fao56':\n",
    "        df_filtered[f'panel_pred_fao56'] = results.predict().values.flatten()\n",
    "    if target_variable == 'panel_pred_penman':\n",
    "        df_filtered[f'panel_pred_penman'] = results.predict().values.flatten()\n",
    "\n",
    "print(\"مدل‌سازی بین‌ایستگاهی با موفقیت انجام شد.\")\n",
    "print(\"نمونه‌ای از پیش‌بینی‌های مدل Panel:\")\n",
    "print(df)"
   ]
  }
 ],
 "metadata": {
  "kernelspec": {
   "display_name": "panel-data-eto",
   "language": "python",
   "name": "python3"
  },
  "language_info": {
   "codemirror_mode": {
    "name": "ipython",
    "version": 3
   },
   "file_extension": ".py",
   "mimetype": "text/x-python",
   "name": "python",
   "nbconvert_exporter": "python",
   "pygments_lexer": "ipython3",
   "version": "3.12.3"
  }
 },
 "nbformat": 4,
 "nbformat_minor": 5
}
